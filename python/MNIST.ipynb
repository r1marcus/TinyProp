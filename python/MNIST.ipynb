{
 "cells": [
  {
   "cell_type": "code",
   "execution_count": 61,
   "id": "b9df2481",
   "metadata": {},
   "outputs": [],
   "source": [
    "import torch\n",
    "import torch.nn as nn\n",
    "import torchvision\n",
    "import torchvision.transforms as transforms\n",
    "import torch.nn.functional as F\n",
    "import torch.optim as optim\n",
    "%run tinyProp.py    # import all classes and methods"
   ]
  },
  {
   "cell_type": "code",
   "execution_count": 62,
   "id": "dd5cb693",
   "metadata": {},
   "outputs": [
    {
     "name": "stdout",
     "output_type": "stream",
     "text": [
      "cuda\n"
     ]
    }
   ],
   "source": [
    "device = torch.device(\"cuda\" if torch.cuda.is_available() else \"cpu\")\n",
    "#device = \"cpu\"\n",
    "print(device)"
   ]
  },
  {
   "cell_type": "code",
   "execution_count": 63,
   "id": "4477a19a",
   "metadata": {},
   "outputs": [
    {
     "name": "stdout",
     "output_type": "stream",
     "text": [
      "10\n"
     ]
    }
   ],
   "source": [
    "batch_size_train = 20\n",
    "batch_size_test = 1000\n",
    "random_seed = 1\n",
    "torch.manual_seed(random_seed)\n",
    "\n",
    "# Import dataset\n",
    "train_loader = torch.utils.data.DataLoader(\n",
    "  torchvision.datasets.MNIST('/files/', train=True, download=True,\n",
    "                             transform=torchvision.transforms.Compose([\n",
    "                               torchvision.transforms.ToTensor(),\n",
    "                               torchvision.transforms.Normalize(\n",
    "                                 (0.1307,), (0.3081,))\n",
    "                             ])),\n",
    "  batch_size=batch_size_train, shuffle=True)\n",
    "\n",
    "test_loader = torch.utils.data.DataLoader(\n",
    "  torchvision.datasets.MNIST('/files/', train=False, download=True,\n",
    "                             transform=torchvision.transforms.Compose([\n",
    "                               torchvision.transforms.ToTensor(),\n",
    "                               torchvision.transforms.Normalize(\n",
    "                                 (0.1307,), (0.3081,))\n",
    "                             ])),\n",
    "  batch_size=batch_size_test, shuffle=True)\n",
    "\n",
    "\n",
    "print(len(test_loader))"
   ]
  },
  {
   "cell_type": "code",
   "execution_count": 64,
   "id": "17105f57",
   "metadata": {},
   "outputs": [],
   "source": [
    "# Hyperparameters\n",
    "n_epochs = 5\n",
    "batch_size_train = 20\n",
    "batch_size_test = 1000\n",
    "learning_rate = 0.01\n",
    "momentum = 0.5\n",
    "\n",
    "# set tinyProp parameters\n",
    "tpParams = TinyPropParams(0, 1, 1, 5)   # S_min, S_max, zeta, N_layers\n",
    "\n",
    "\n",
    "class Net(torch.nn.Module):\n",
    "    def __init__(self):\n",
    "        super().__init__()\n",
    "        # define layers\n",
    "        self.conv1 = nn.Conv2d(1, 6, 5)                     # normal layer\n",
    "        self.conv2 = TinyPropConv2d(6, 12, 5, tpParams, 2)  # TinyProp-layer\n",
    "\n",
    "        self.fc1 = TinyPropLinear(192, 120, tpParams, 3)    # TinyProp-layer\n",
    "        self.fc2 = nn.Linear(120, 60)                       # normal layer\n",
    "        self.fc3 = nn.Linear(60, 10)\n",
    "    \n",
    "    def forward(self, x):\n",
    "        x = F.relu(self.conv1(x))\n",
    "        x = F.max_pool2d(x, kernel_size=2, stride=2)\n",
    "\n",
    "        x = F.relu(self.conv2(x))\n",
    "        x = F.max_pool2d(x, kernel_size=2, stride=2)\n",
    "\n",
    "        x = x.view(-1, 12 * 4 * 4)\n",
    "        x = F.relu(self.fc1(x))\n",
    "        x = F.relu(self.fc2(x))\n",
    "        x = F.softmax(self.fc3(x), dim=1)\n",
    "        return x"
   ]
  },
  {
   "cell_type": "code",
   "execution_count": 65,
   "id": "432eea00",
   "metadata": {},
   "outputs": [
    {
     "name": "stdout",
     "output_type": "stream",
     "text": [
      "Test  Eval : Avg.loss: 2.5579,  Accuracy: 906/10000 (9%)\n",
      "\n",
      "Train Epoch: 1 [0/60000 (0%)]\tLoss: 2.302380\r"
     ]
    },
    {
     "ename": "KeyboardInterrupt",
     "evalue": "",
     "output_type": "error",
     "traceback": [
      "\u001b[1;31m---------------------------------------------------------------------------\u001b[0m",
      "\u001b[1;31mKeyboardInterrupt\u001b[0m                         Traceback (most recent call last)",
      "Cell \u001b[1;32mIn[65], line 10\u001b[0m\n\u001b[0;32m      6\u001b[0m test_loss, test_acc \u001b[39m=\u001b[39m evaluate(device, model, loss, test_loader)\n\u001b[0;32m      8\u001b[0m \u001b[39mfor\u001b[39;00m epoch \u001b[39min\u001b[39;00m \u001b[39mrange\u001b[39m(\u001b[39m1\u001b[39m, n_epochs \u001b[39m+\u001b[39m \u001b[39m1\u001b[39m):\n\u001b[0;32m      9\u001b[0m     \u001b[39m# train one epoch and retrieve average loss and accuracy. You may safe them for plotting\u001b[39;00m\n\u001b[1;32m---> 10\u001b[0m     train_loss, train_acc \u001b[39m=\u001b[39m trainOneEpoch(device, model, optimizer, loss, train_loader, epoch)\n\u001b[0;32m     12\u001b[0m     \u001b[39m# it is good practise to evaluate on the test set every epoch\u001b[39;00m\n\u001b[0;32m     13\u001b[0m     test_loss, test_acc \u001b[39m=\u001b[39m evaluate(device, model, loss, test_loader)\n",
      "File \u001b[1;32m~\\Hahn_schickard\\AIfES\\python\\tinyProp.py:236\u001b[0m, in \u001b[0;36mtrainOneEpoch\u001b[1;34m(device, model, optimizer, loss_function, train_loader, epoch, print_interval)\u001b[0m\n\u001b[0;32m    234\u001b[0m output \u001b[39m=\u001b[39m model(data)\n\u001b[0;32m    235\u001b[0m loss \u001b[39m=\u001b[39m loss_function(output, target)\n\u001b[1;32m--> 236\u001b[0m loss\u001b[39m.\u001b[39;49mbackward()\n\u001b[0;32m    237\u001b[0m optimizer\u001b[39m.\u001b[39mstep()\n\u001b[0;32m    238\u001b[0m running_loss \u001b[39m+\u001b[39m\u001b[39m=\u001b[39m loss\u001b[39m.\u001b[39mitem()\n",
      "File \u001b[1;32mc:\\Users\\Daniel\\anaconda3\\envs\\ml\\lib\\site-packages\\torch\\_tensor.py:491\u001b[0m, in \u001b[0;36mTensor.backward\u001b[1;34m(self, gradient, retain_graph, create_graph, inputs)\u001b[0m\n\u001b[0;32m    481\u001b[0m \u001b[39mif\u001b[39;00m has_torch_function_unary(\u001b[39mself\u001b[39m):\n\u001b[0;32m    482\u001b[0m     \u001b[39mreturn\u001b[39;00m handle_torch_function(\n\u001b[0;32m    483\u001b[0m         Tensor\u001b[39m.\u001b[39mbackward,\n\u001b[0;32m    484\u001b[0m         (\u001b[39mself\u001b[39m,),\n\u001b[1;32m   (...)\u001b[0m\n\u001b[0;32m    489\u001b[0m         inputs\u001b[39m=\u001b[39minputs,\n\u001b[0;32m    490\u001b[0m     )\n\u001b[1;32m--> 491\u001b[0m torch\u001b[39m.\u001b[39;49mautograd\u001b[39m.\u001b[39;49mbackward(\n\u001b[0;32m    492\u001b[0m     \u001b[39mself\u001b[39;49m, gradient, retain_graph, create_graph, inputs\u001b[39m=\u001b[39;49minputs\n\u001b[0;32m    493\u001b[0m )\n",
      "File \u001b[1;32mc:\\Users\\Daniel\\anaconda3\\envs\\ml\\lib\\site-packages\\torch\\autograd\\__init__.py:204\u001b[0m, in \u001b[0;36mbackward\u001b[1;34m(tensors, grad_tensors, retain_graph, create_graph, grad_variables, inputs)\u001b[0m\n\u001b[0;32m    199\u001b[0m     retain_graph \u001b[39m=\u001b[39m create_graph\n\u001b[0;32m    201\u001b[0m \u001b[39m# The reason we repeat the same comment below is that\u001b[39;00m\n\u001b[0;32m    202\u001b[0m \u001b[39m# some Python versions print out the first line of a multi-line function\u001b[39;00m\n\u001b[0;32m    203\u001b[0m \u001b[39m# calls in the traceback and some print out the last line\u001b[39;00m\n\u001b[1;32m--> 204\u001b[0m Variable\u001b[39m.\u001b[39;49m_execution_engine\u001b[39m.\u001b[39;49mrun_backward(  \u001b[39m# Calls into the C++ engine to run the backward pass\u001b[39;49;00m\n\u001b[0;32m    205\u001b[0m     tensors, grad_tensors_, retain_graph, create_graph, inputs,\n\u001b[0;32m    206\u001b[0m     allow_unreachable\u001b[39m=\u001b[39;49m\u001b[39mTrue\u001b[39;49;00m, accumulate_grad\u001b[39m=\u001b[39;49m\u001b[39mTrue\u001b[39;49;00m)\n",
      "\u001b[1;31mKeyboardInterrupt\u001b[0m: "
     ]
    }
   ],
   "source": [
    "model = Net().to(device)\n",
    "optimizer = optim.SGD(model.parameters(), lr=learning_rate, momentum=momentum)\n",
    "loss = F.cross_entropy\n",
    "\n",
    "# you can evaluate the untrained model to get baseline values\n",
    "test_loss, test_acc = evaluate(device, model, loss, test_loader)\n",
    "\n",
    "for epoch in range(1, n_epochs + 1):\n",
    "    # train one epoch and retrieve average loss and accuracy. You may safe them for plotting\n",
    "    train_loss, train_acc = trainOneEpoch(device, model, optimizer, loss, train_loader, epoch)\n",
    "\n",
    "    # it is good practise to evaluate on the test set every epoch\n",
    "    test_loss, test_acc = evaluate(device, model, loss, test_loader)"
   ]
  },
  {
   "cell_type": "code",
   "execution_count": 107,
   "id": "f1ba4aba",
   "metadata": {},
   "outputs": [
    {
     "name": "stdout",
     "output_type": "stream",
     "text": [
      "[0.3733935765587458, 0.03317278867515479, 0.03061097189790091, 0.02132896923838358, 0.017466703762619825]\n",
      "[0.37972983315359726, 0.04404241844240241, 0.037439452266092646, 0.024121287349162027, 0.019539459619592043]\n"
     ]
    }
   ],
   "source": [
    "# after the training you can obtain the mean epoch bpr, k directly from the TinyPropLayers (one entry per epoch)\n",
    "\n",
    "print(model.conv2.epochBpr)\n",
    "print(model.fc1.epochBpr)"
   ]
  },
  {
   "cell_type": "code",
   "execution_count": null,
   "id": "7e85d060",
   "metadata": {},
   "outputs": [],
   "source": []
  }
 ],
 "metadata": {
  "kernelspec": {
   "display_name": "Python 3",
   "language": "python",
   "name": "python3"
  },
  "language_info": {
   "codemirror_mode": {
    "name": "ipython",
    "version": 3
   },
   "file_extension": ".py",
   "mimetype": "text/x-python",
   "name": "python",
   "nbconvert_exporter": "python",
   "pygments_lexer": "ipython3",
   "version": "3.9.17"
  }
 },
 "nbformat": 4,
 "nbformat_minor": 5
}
