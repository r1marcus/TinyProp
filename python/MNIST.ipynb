{
 "cells": [
  {
   "cell_type": "code",
   "execution_count": 103,
   "id": "b9df2481",
   "metadata": {},
   "outputs": [],
   "source": [
    "import torch\n",
    "import torch.nn as nn\n",
    "import torchvision\n",
    "import torchvision.transforms as transforms\n",
    "import torch.nn.functional as F\n",
    "import torch.optim as optim\n",
    "%run tinyProp.py    # import all classes and methods"
   ]
  },
  {
   "cell_type": "code",
   "execution_count": 83,
   "id": "4477a19a",
   "metadata": {},
   "outputs": [
    {
     "name": "stdout",
     "output_type": "stream",
     "text": [
      "10\n"
     ]
    }
   ],
   "source": [
    "batch_size_train = 20\n",
    "batch_size_test = 1000\n",
    "random_seed = 1\n",
    "torch.manual_seed(random_seed)\n",
    "\n",
    "# Import dataset\n",
    "train_loader = torch.utils.data.DataLoader(\n",
    "  torchvision.datasets.MNIST('/files/', train=True, download=True,\n",
    "                             transform=torchvision.transforms.Compose([\n",
    "                               torchvision.transforms.ToTensor(),\n",
    "                               torchvision.transforms.Normalize(\n",
    "                                 (0.1307,), (0.3081,))\n",
    "                             ])),\n",
    "  batch_size=batch_size_train, shuffle=True)\n",
    "\n",
    "test_loader = torch.utils.data.DataLoader(\n",
    "  torchvision.datasets.MNIST('/files/', train=False, download=True,\n",
    "                             transform=torchvision.transforms.Compose([\n",
    "                               torchvision.transforms.ToTensor(),\n",
    "                               torchvision.transforms.Normalize(\n",
    "                                 (0.1307,), (0.3081,))\n",
    "                             ])),\n",
    "  batch_size=batch_size_test, shuffle=True)\n",
    "\n",
    "\n",
    "print(len(test_loader))"
   ]
  },
  {
   "cell_type": "code",
   "execution_count": 104,
   "id": "17105f57",
   "metadata": {},
   "outputs": [],
   "source": [
    "# Hyperparameters\n",
    "n_epochs = 5\n",
    "batch_size_train = 20\n",
    "batch_size_test = 1000\n",
    "learning_rate = 0.01\n",
    "momentum = 0.5\n",
    "\n",
    "# set tinyProp parameters\n",
    "tpParams = TinyPropParams(0, 1, 1, 5)   # S_min, S_max, zeta, N_layers\n",
    "\n",
    "\n",
    "class Net(torch.nn.Module):\n",
    "    def __init__(self):\n",
    "        super().__init__()\n",
    "        # define layers\n",
    "        self.conv1 = nn.Conv2d(1, 6, 5)                     # normal layer\n",
    "        self.conv2 = TinyPropConv2d(6, 12, 5, tpParams, 2)  # TinyProp-layer\n",
    "\n",
    "        self.fc1 = TinyPropLinear(192, 120, tpParams, 3)    # TinyProp-layer\n",
    "        self.fc2 = nn.Linear(120, 60)                       # normal layer\n",
    "        self.fc3 = nn.Linear(60, 10)\n",
    "    \n",
    "    def forward(self, x):\n",
    "        x = F.relu(self.conv1(x))\n",
    "        x = F.max_pool2d(x, kernel_size=2, stride=2)\n",
    "\n",
    "        x = F.relu(self.conv2(x))\n",
    "        x = F.max_pool2d(x, kernel_size=2, stride=2)\n",
    "\n",
    "        x = x.view(-1, 12 * 4 * 4)\n",
    "        x = F.relu(self.fc1(x))\n",
    "        x = F.relu(self.fc2(x))\n",
    "        x = F.softmax(self.fc3(x), dim=1)\n",
    "        return x"
   ]
  },
  {
   "cell_type": "code",
   "execution_count": 106,
   "id": "432eea00",
   "metadata": {},
   "outputs": [
    {
     "name": "stdout",
     "output_type": "stream",
     "text": [
      "Train Epoch: 1 completed            Loss: 1.714375\n",
      "Test  Eval : Avg.loss: 1.8931,  Accuracy: 7615/10000 (76%)\n",
      "\n",
      "Train Epoch: 2 completed            Loss: 1.710115\n",
      "Test  Eval : Avg.loss: 1.8705,  Accuracy: 7778/10000 (78%)\n",
      "\n",
      "Train Epoch: 3 completed            Loss: 1.577805\n",
      "Test  Eval : Avg.loss: 1.7659,  Accuracy: 8733/10000 (87%)\n",
      "\n",
      "Train Epoch: 4 completed            Loss: 1.629576\n",
      "Test  Eval : Avg.loss: 1.7506,  Accuracy: 8862/10000 (89%)\n",
      "\n",
      "Train Epoch: 5 completed            Loss: 1.610686\n",
      "Test  Eval : Avg.loss: 1.7553,  Accuracy: 8824/10000 (88%)\n",
      "\n"
     ]
    }
   ],
   "source": [
    "model = Net()\n",
    "optimizer = optim.SGD(model.parameters(), lr=learning_rate, momentum=momentum)\n",
    "loss = F.cross_entropy\n",
    "\n",
    "# you can evaluate the untrained model to get baseline values\n",
    "test_loss, test_acc = evaluate(model, loss, test_loader)\n",
    "\n",
    "for epoch in range(1, n_epochs + 1):\n",
    "    # train one epoch and retrieve average loss and accuracy. You may safe them for plotting\n",
    "    train_loss, train_acc = trainOneEpoch(model, optimizer, loss, train_loader, epoch)\n",
    "\n",
    "    # it is good practise to evaluate on the test set every epoch\n",
    "    test_loss, test_acc = evaluate(model, loss, test_loader)"
   ]
  },
  {
   "cell_type": "code",
   "execution_count": 107,
   "id": "f1ba4aba",
   "metadata": {},
   "outputs": [
    {
     "name": "stdout",
     "output_type": "stream",
     "text": [
      "[0.3733935765587458, 0.03317278867515479, 0.03061097189790091, 0.02132896923838358, 0.017466703762619825]\n",
      "[0.37972983315359726, 0.04404241844240241, 0.037439452266092646, 0.024121287349162027, 0.019539459619592043]\n"
     ]
    }
   ],
   "source": [
    "# after the training you can obtain the mean epoch bpr, k directly from the TinyPropLayers (one entry per epoch)\n",
    "\n",
    "print(model.conv2.epochBpr)\n",
    "print(model.fc1.epochBpr)"
   ]
  },
  {
   "cell_type": "code",
   "execution_count": null,
   "id": "97d443a5",
   "metadata": {},
   "outputs": [],
   "source": []
  }
 ],
 "metadata": {
  "kernelspec": {
   "display_name": "Python 3",
   "language": "python",
   "name": "python3"
  },
  "language_info": {
   "codemirror_mode": {
    "name": "ipython",
    "version": 3
   },
   "file_extension": ".py",
   "mimetype": "text/x-python",
   "name": "python",
   "nbconvert_exporter": "python",
   "pygments_lexer": "ipython3",
   "version": "3.7.10"
  }
 },
 "nbformat": 4,
 "nbformat_minor": 5
}
