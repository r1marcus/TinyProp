{
 "cells": [
  {
   "cell_type": "code",
   "execution_count": 2,
   "metadata": {},
   "outputs": [],
   "source": [
    "import torch\n",
    "import torch.nn as nn\n",
    "import torch.nn.functional as F\n",
    "%run tinyProp.py    # import all classes"
   ]
  },
  {
   "cell_type": "code",
   "execution_count": 3,
   "metadata": {},
   "outputs": [
    {
     "name": "stdout",
     "output_type": "stream",
     "text": [
      "cuda\n"
     ]
    }
   ],
   "source": [
    "device = torch.device(\"cuda\" if torch.cuda.is_available() else \"cpu\")\n",
    "print(device)"
   ]
  },
  {
   "cell_type": "code",
   "execution_count": 8,
   "metadata": {},
   "outputs": [
    {
     "name": "stdout",
     "output_type": "stream",
     "text": [
      ">LINEAR forwards:\n",
      ">LINEAR backwards:\n",
      "tensor([[-3.6680,  2.8911,  0.1020, -2.3948, -2.0706,  3.0194, -2.2185, -1.3537,\n",
      "         -1.0371, -3.6269]])\n",
      ">TINYPROP forwards:\n",
      ">TINYPROP backwards:\n",
      "tensor([[-3.6680,  2.8911,  0.1020, -2.3948, -2.0706,  3.0194, -2.2185, -1.3537,\n",
      "         -1.0371, -3.6269]])\n"
     ]
    }
   ],
   "source": [
    "# TESTLINEAR LAYER\n",
    "\n",
    "tpParams = TinyPropParams(1, 1, 1, 0)   # Effectively no TinyProp\n",
    "\n",
    "device = 'cpu'\n",
    "torchLin = torch.nn.Linear(10, 6, bias=True)\n",
    "tinyPropLin = TinyPropLinear(10, 6, tpParams, 1, bias=True)\n",
    "x = torch.randn(1, 10)\n",
    "y = x.detach().clone()\n",
    "x.requires_grad = True\n",
    "y.requires_grad = True\n",
    "\n",
    "# Make sure weight and bias are the same\n",
    "new_weights = torch.randn_like(torchLin.weight)\n",
    "torchLin.weight = nn.Parameter(new_weights)\n",
    "tinyPropLin.weight = nn.Parameter(new_weights)\n",
    "\n",
    "new_bias = torch.randn_like(torchLin.bias)\n",
    "torchLin.bias = nn.Parameter(new_bias)\n",
    "tinyPropLin.bias = nn.Parameter(new_bias)\n",
    "\n",
    "# and check that forwards produces the same result\n",
    "forward = torchLin(x)\n",
    "print(\">LINEAR forwards:\")\n",
    "#print(forward)\n",
    "print(\">LINEAR backwards:\")\n",
    "forward.backward(torch.ones_like(forward))\n",
    "#print(torchLin.weight.grad)\n",
    "#print(torchLin.bias.grad)\n",
    "print(x.grad)\n",
    "\n",
    "forward = tinyPropLin(y)\n",
    "print(\">TINYPROP forwards:\")\n",
    "#print(forward)\n",
    "print(\">TINYPROP backwards:\")\n",
    "forward.backward(torch.ones_like(forward))\n",
    "#print(tinyPropLin.weight.grad)\n",
    "#print(tinyPropLin.bias.grad)\n",
    "print(y.grad)"
   ]
  },
  {
   "cell_type": "code",
   "execution_count": 25,
   "metadata": {},
   "outputs": [],
   "source": [
    "%run tinyProp.py    # import all classes"
   ]
  },
  {
   "cell_type": "code",
   "execution_count": 10,
   "metadata": {},
   "outputs": [
    {
     "name": "stdout",
     "output_type": "stream",
     "text": [
      ">CONV forwards:\n",
      ">LINEAR backwards:\n",
      "tensor([[[[ 0.3828, -0.3665, -9.6231],\n",
      "          [-7.2493, -5.0602, -9.5640],\n",
      "          [-1.7017, -0.6819, -5.3610]],\n",
      "\n",
      "         [[ 7.9566,  5.1179,  7.0664],\n",
      "          [ 7.9504,  6.3732,  8.8559],\n",
      "          [15.8044, 16.9372, 20.0440]],\n",
      "\n",
      "         [[ 4.0545,  7.0025,  9.7788],\n",
      "          [ 3.9602,  6.7449, 10.9203],\n",
      "          [-2.2036,  3.5207,  6.2683]]]])\n",
      "tensor([100.])\n",
      ">TINYPROP forwards:\n",
      ">TINYPROP backwards:\n",
      "tensor([[[[ 0.3828, -0.3665, -9.6231],\n",
      "          [-7.2493, -5.0602, -9.5640],\n",
      "          [-1.7017, -0.6818, -5.3610]],\n",
      "\n",
      "         [[ 7.9566,  5.1179,  7.0664],\n",
      "          [ 7.9504,  6.3732,  8.8559],\n",
      "          [15.8044, 16.9372, 20.0440]],\n",
      "\n",
      "         [[ 4.0545,  7.0025,  9.7788],\n",
      "          [ 3.9602,  6.7449, 10.9203],\n",
      "          [-2.2036,  3.5207,  6.2683]]]])\n",
      "tensor([100.])\n"
     ]
    }
   ],
   "source": [
    "# TEST CONVOLUTIONAL LAYER\n",
    "\n",
    "tpParams = TinyPropParams(1, 1, 1, 0)   # Effectively no TinyProp\n",
    "\n",
    "torchConv = torch.nn.Conv2d(3, 1, 3)\n",
    "tinyPropConv = TinyPropConv2d(3, 1, 3, tpParams, 1)\n",
    "x = torch.randn(1, 3, 12, 12)\n",
    "y = x.detach().clone()\n",
    "x.requires_grad = True\n",
    "y.requires_grad = True\n",
    "\n",
    "new_weights = torch.randn_like(torchConv.weight)\n",
    "torchConv.weight = nn.Parameter(new_weights)\n",
    "tinyPropConv.weight = nn.Parameter(new_weights)\n",
    "\n",
    "new_bias = torch.randn_like(torchConv.bias)\n",
    "torchConv.bias = nn.Parameter(new_bias)\n",
    "tinyPropConv.bias = nn.Parameter(new_bias)\n",
    "\n",
    "# and check that forwards produces the same result\n",
    "forward = torchConv(x)\n",
    "print(\">CONV forwards:\")\n",
    "#print(forward)\n",
    "print(\">LINEAR backwards:\")\n",
    "forward.backward(torch.ones_like(forward))\n",
    "print(torchConv.weight.grad)\n",
    "print(torchConv.bias.grad)\n",
    "#print(x.grad)\n",
    "\n",
    "forward = tinyPropConv(y)\n",
    "print(\">TINYPROP forwards:\")\n",
    "#print(forward)\n",
    "print(\">TINYPROP backwards:\")\n",
    "forward.backward(torch.ones_like(forward))\n",
    "print(tinyPropConv.weight.grad)\n",
    "print(tinyPropConv.bias.grad)\n",
    "#print(y.grad)"
   ]
  },
  {
   "cell_type": "code",
   "execution_count": null,
   "metadata": {},
   "outputs": [],
   "source": []
  }
 ],
 "metadata": {
  "kernelspec": {
   "display_name": "quantum",
   "language": "python",
   "name": "python3"
  },
  "language_info": {
   "codemirror_mode": {
    "name": "ipython",
    "version": 3
   },
   "file_extension": ".py",
   "mimetype": "text/x-python",
   "name": "python",
   "nbconvert_exporter": "python",
   "pygments_lexer": "ipython3",
   "version": "3.9.17"
  },
  "orig_nbformat": 4
 },
 "nbformat": 4,
 "nbformat_minor": 2
}
