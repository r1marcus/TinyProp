{
 "cells": [
  {
   "cell_type": "code",
   "execution_count": 47,
   "id": "b9df2481",
   "metadata": {},
   "outputs": [],
   "source": [
    "import torch\n",
    "import torch.nn as nn\n",
    "import torchvision\n",
    "import torchvision.transforms as transforms\n",
    "import torch.nn.functional as F\n",
    "import torch.optim as optim\n",
    "%run tinyProp.py    # import all classes and methods"
   ]
  },
  {
   "cell_type": "code",
   "execution_count": 11,
   "id": "4477a19a",
   "metadata": {},
   "outputs": [],
   "source": [
    "batch_size_train = 20\n",
    "batch_size_test = 1000\n",
    "random_seed = 1\n",
    "torch.manual_seed(random_seed)\n",
    "\n",
    "# Import dataset\n",
    "train_set = torchvision.datasets.FashionMNIST(\"./data\", download=True, transform=\n",
    "                                                transforms.Compose([transforms.ToTensor()]))\n",
    "test_set = torchvision.datasets.FashionMNIST(\"./data\", download=True, train=False, transform=\n",
    "                                               transforms.Compose([transforms.ToTensor()]))  \n",
    "train_loader = torch.utils.data.DataLoader(train_set, batch_size=batch_size_train)\n",
    "test_loader = torch.utils.data.DataLoader(test_set, batch_size=batch_size_test)\n",
    "def output_label(label):\n",
    "    output_mapping = {\n",
    "                 0: \"T-shirt/Top\",\n",
    "                 1: \"Trouser\",\n",
    "                 2: \"Pullover\",\n",
    "                 3: \"Dress\",\n",
    "                 4: \"Coat\", \n",
    "                 5: \"Sandal\", \n",
    "                 6: \"Shirt\",\n",
    "                 7: \"Sneaker\",\n",
    "                 8: \"Bag\",\n",
    "                 9: \"Ankle Boot\"\n",
    "                 }\n",
    "    input = (label.item() if type(label) == torch.Tensor else label)\n",
    "    return output_mapping[input]"
   ]
  },
  {
   "cell_type": "code",
   "execution_count": 48,
   "id": "17105f57",
   "metadata": {},
   "outputs": [],
   "source": [
    "# Hyperparameters\n",
    "n_epochs = 5\n",
    "batch_size_train = 20\n",
    "batch_size_test = 1000\n",
    "learning_rate = 0.01\n",
    "momentum = 0.5\n",
    "tpParams = TinyPropParams(0, 1, 1, 5)   # S_min, S_max, zeta, N_layers\n",
    "\n",
    "\n",
    "class Net(torch.nn.Module):\n",
    "    def __init__(self):\n",
    "        super().__init__()\n",
    "        # define layers\n",
    "        self.conv1 = nn.Conv2d(1, 6, 5)                     # normal layer\n",
    "        self.conv2 = TinyPropConv2d(6, 12, 5, tpParams, 2)  # TinyProp-layer\n",
    "\n",
    "        self.fc1 = TinyPropLinear(192, 120, tpParams, 3)    # TinyProp-layer\n",
    "        self.fc2 = nn.Linear(120, 60)                       # normal layer\n",
    "        self.fc3 = nn.Linear(60, 10)\n",
    "    \n",
    "    def forward(self, x):\n",
    "        x = F.relu(self.conv1(x))\n",
    "        x = F.max_pool2d(x, kernel_size=2, stride=2)\n",
    "\n",
    "        x = F.relu(self.conv2(x))\n",
    "        x = F.max_pool2d(x, kernel_size=2, stride=2)\n",
    "\n",
    "        x = x.view(-1, 12 * 4 * 4)\n",
    "        x = F.relu(self.fc1(x))\n",
    "        x = F.relu(self.fc2(x))\n",
    "        x = F.softmax(self.fc3(x), dim=1)\n",
    "        return x"
   ]
  },
  {
   "cell_type": "code",
   "execution_count": null,
   "id": "432eea00",
   "metadata": {},
   "outputs": [],
   "source": [
    "model = Net()\n",
    "optimizer = optim.SGD(model.parameters(), lr=learning_rate, momentum=momentum)\n",
    "loss = F.cross_entropy\n",
    "\n",
    "# you can evaluate the untrained model to get baseline values\n",
    "test_loss, test_acc = evaluate(model, loss, test_loader)\n",
    "\n",
    "for epoch in range(1, n_epochs + 1):\n",
    "    # train one epoch and retrieve average loss and accuracy. You may safe them for plotting\n",
    "    train_loss, train_acc = trainOneEpoch(model, optimizer, loss, train_loader, epoch)\n",
    "\n",
    "    # it is good practise to evaluate on the test set every epoch. Once again, \n",
    "    test_loss, test_acc = evaluate(model, loss, test_loader)"
   ]
  },
  {
   "cell_type": "code",
   "execution_count": null,
   "id": "f1ba4aba",
   "metadata": {},
   "outputs": [],
   "source": [
    "# after the training you can obtain the mean epoch bpr, k directly from the TinyPropLayers (one entry per epoch)\n",
    "\n",
    "print(model.conv2.epochBpr)\n",
    "print(model.fc1.epochK)"
   ]
  }
 ],
 "metadata": {
  "kernelspec": {
   "display_name": "Python 3",
   "language": "python",
   "name": "python3"
  },
  "language_info": {
   "codemirror_mode": {
    "name": "ipython",
    "version": 3
   },
   "file_extension": ".py",
   "mimetype": "text/x-python",
   "name": "python",
   "nbconvert_exporter": "python",
   "pygments_lexer": "ipython3",
   "version": "3.7.10"
  }
 },
 "nbformat": 4,
 "nbformat_minor": 5
}
